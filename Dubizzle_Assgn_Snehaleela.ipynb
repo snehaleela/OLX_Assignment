{
 "cells": [
  {
   "cell_type": "markdown",
   "metadata": {},
   "source": [
    "# ASSIGNMENT DUBIZZLE\n",
    "\n",
    "## Given 2 Files - Sample Listings, Queries\n",
    "\n",
    "### AIM- To Implement a simple approach to cluster the listings data into similar items clusters.\n",
    "\n",
    "#### IMPORTS\n",
    "\n"
   ]
  },
  {
   "cell_type": "code",
   "execution_count": 1,
   "metadata": {
    "collapsed": true
   },
   "outputs": [],
   "source": [
    "import pandas as pd\n",
    "import numpy as np\n",
    "import seaborn as sns\n",
    "import matplotlib.pyplot as plt\n",
    "%matplotlib inline"
   ]
  },
  {
   "cell_type": "markdown",
   "metadata": {},
   "source": [
    "#### READ THE FILES"
   ]
  },
  {
   "cell_type": "code",
   "execution_count": 27,
   "metadata": {
    "collapsed": false
   },
   "outputs": [
    {
     "data": {
      "text/html": [
       "<div>\n",
       "<table border=\"1\" class=\"dataframe\">\n",
       "  <thead>\n",
       "    <tr style=\"text-align: right;\">\n",
       "      <th></th>\n",
       "      <th>Unnamed: 0</th>\n",
       "      <th>search_term</th>\n",
       "      <th>cnt</th>\n",
       "    </tr>\n",
       "  </thead>\n",
       "  <tbody>\n",
       "    <tr>\n",
       "      <th>0</th>\n",
       "      <td>0</td>\n",
       "      <td>polo</td>\n",
       "      <td>133394</td>\n",
       "    </tr>\n",
       "    <tr>\n",
       "      <th>1</th>\n",
       "      <td>1</td>\n",
       "      <td>golf</td>\n",
       "      <td>124172</td>\n",
       "    </tr>\n",
       "    <tr>\n",
       "      <th>2</th>\n",
       "      <td>2</td>\n",
       "      <td>isuzu</td>\n",
       "      <td>121043</td>\n",
       "    </tr>\n",
       "  </tbody>\n",
       "</table>\n",
       "</div>"
      ],
      "text/plain": [
       "   Unnamed: 0 search_term     cnt\n",
       "0           0        polo  133394\n",
       "1           1        golf  124172\n",
       "2           2       isuzu  121043"
      ]
     },
     "execution_count": 27,
     "metadata": {},
     "output_type": "execute_result"
    }
   ],
   "source": [
    "df_queries =  pd.read_csv('olx_data_sample/za_queries_sample.csv')\n",
    "df_queries.head(3)"
   ]
  },
  {
   "cell_type": "code",
   "execution_count": 3,
   "metadata": {
    "collapsed": false
   },
   "outputs": [
    {
     "name": "stdout",
     "output_type": "stream",
     "text": [
      "<class 'pandas.core.frame.DataFrame'>\n",
      "RangeIndex: 100000 entries, 0 to 99999\n",
      "Data columns (total 3 columns):\n",
      "Unnamed: 0     100000 non-null int64\n",
      "search_term    99999 non-null object\n",
      "cnt            100000 non-null int64\n",
      "dtypes: int64(2), object(1)\n",
      "memory usage: 2.3+ MB\n"
     ]
    }
   ],
   "source": [
    "df_queries.info()"
   ]
  },
  {
   "cell_type": "code",
   "execution_count": 4,
   "metadata": {
    "collapsed": false
   },
   "outputs": [
    {
     "name": "stderr",
     "output_type": "stream",
     "text": [
      "C:\\Users\\sleelag\\AppData\\Local\\Continuum\\Anaconda3\\lib\\site-packages\\IPython\\core\\interactiveshell.py:2717: DtypeWarning: Columns (0,2,5) have mixed types. Specify dtype option on import or set low_memory=False.\n",
      "  interactivity=interactivity, compiler=compiler, result=result)\n"
     ]
    },
    {
     "data": {
      "text/html": [
       "<div>\n",
       "<table border=\"1\" class=\"dataframe\">\n",
       "  <thead>\n",
       "    <tr style=\"text-align: right;\">\n",
       "      <th></th>\n",
       "      <th>Unnamed: 0</th>\n",
       "      <th>item_id</th>\n",
       "      <th>seller_id</th>\n",
       "      <th>listing_title</th>\n",
       "      <th>listing_description</th>\n",
       "      <th>listing_price</th>\n",
       "      <th>category_sk</th>\n",
       "      <th>category_l1_name_en</th>\n",
       "      <th>category_l2_name_en</th>\n",
       "      <th>category_l3_name_en</th>\n",
       "      <th>listing_latitude</th>\n",
       "      <th>listing_longitude</th>\n",
       "    </tr>\n",
       "  </thead>\n",
       "  <tbody>\n",
       "    <tr>\n",
       "      <th>0</th>\n",
       "      <td>0</td>\n",
       "      <td>0.0</td>\n",
       "      <td>0</td>\n",
       "      <td>Nice wooden makes</td>\n",
       "      <td>We build all different types for sale</td>\n",
       "      <td>17500.00</td>\n",
       "      <td>olx|mea|za|806|809</td>\n",
       "      <td>Home, Garden &amp; Tools</td>\n",
       "      <td>Garden &amp; Braai</td>\n",
       "      <td>Unknown</td>\n",
       "      <td>-25.43067</td>\n",
       "      <td>27.84873</td>\n",
       "    </tr>\n",
       "    <tr>\n",
       "      <th>1</th>\n",
       "      <td>1</td>\n",
       "      <td>1.0</td>\n",
       "      <td>1</td>\n",
       "      <td>A Shinning 2013 Chevrolet 1.4 Utility Bakkie w...</td>\n",
       "      <td>A Stunning accident free bargain that has just...</td>\n",
       "      <td>94890.00</td>\n",
       "      <td>olx|mea|za|362|378|2012</td>\n",
       "      <td>Vehicles</td>\n",
       "      <td>Cars &amp; Bakkies</td>\n",
       "      <td>Chevrolet</td>\n",
       "      <td>-29.73714</td>\n",
       "      <td>31.07364</td>\n",
       "    </tr>\n",
       "    <tr>\n",
       "      <th>2</th>\n",
       "      <td>2</td>\n",
       "      <td>2.0</td>\n",
       "      <td>2</td>\n",
       "      <td>Lampshades various</td>\n",
       "      <td>A variety of lampshades in white</td>\n",
       "      <td>20.00</td>\n",
       "      <td>olx|mea|za|806|807</td>\n",
       "      <td>Home, Garden &amp; Tools</td>\n",
       "      <td>Furniture &amp; Decor</td>\n",
       "      <td>Unknown</td>\n",
       "      <td>-33.88159</td>\n",
       "      <td>18.55522</td>\n",
       "    </tr>\n",
       "  </tbody>\n",
       "</table>\n",
       "</div>"
      ],
      "text/plain": [
       "  Unnamed: 0  item_id seller_id  \\\n",
       "0          0      0.0         0   \n",
       "1          1      1.0         1   \n",
       "2          2      2.0         2   \n",
       "\n",
       "                                       listing_title  \\\n",
       "0                                  Nice wooden makes   \n",
       "1  A Shinning 2013 Chevrolet 1.4 Utility Bakkie w...   \n",
       "2                                 Lampshades various   \n",
       "\n",
       "                                 listing_description listing_price  \\\n",
       "0              We build all different types for sale      17500.00   \n",
       "1  A Stunning accident free bargain that has just...      94890.00   \n",
       "2                   A variety of lampshades in white         20.00   \n",
       "\n",
       "               category_sk   category_l1_name_en category_l2_name_en  \\\n",
       "0       olx|mea|za|806|809  Home, Garden & Tools      Garden & Braai   \n",
       "1  olx|mea|za|362|378|2012              Vehicles      Cars & Bakkies   \n",
       "2       olx|mea|za|806|807  Home, Garden & Tools   Furniture & Decor   \n",
       "\n",
       "  category_l3_name_en  listing_latitude  listing_longitude  \n",
       "0             Unknown         -25.43067           27.84873  \n",
       "1           Chevrolet         -29.73714           31.07364  \n",
       "2             Unknown         -33.88159           18.55522  "
      ]
     },
     "execution_count": 4,
     "metadata": {},
     "output_type": "execute_result"
    }
   ],
   "source": [
    "df_listings = pd.read_csv('olx_data_sample/za_sample_listings_incl_cat.csv')\n",
    "df_listings.head(3)"
   ]
  },
  {
   "cell_type": "code",
   "execution_count": 5,
   "metadata": {
    "collapsed": false
   },
   "outputs": [
    {
     "name": "stdout",
     "output_type": "stream",
     "text": [
      "<class 'pandas.core.frame.DataFrame'>\n",
      "RangeIndex: 500016 entries, 0 to 500015\n",
      "Data columns (total 12 columns):\n",
      "Unnamed: 0             500008 non-null object\n",
      "item_id                500012 non-null float64\n",
      "seller_id              500012 non-null object\n",
      "listing_title          500012 non-null object\n",
      "listing_description    500012 non-null object\n",
      "listing_price          491890 non-null object\n",
      "category_sk            500000 non-null object\n",
      "category_l1_name_en    500000 non-null object\n",
      "category_l2_name_en    499988 non-null object\n",
      "category_l3_name_en    499988 non-null object\n",
      "listing_latitude       499988 non-null float64\n",
      "listing_longitude      499988 non-null float64\n",
      "dtypes: float64(3), object(9)\n",
      "memory usage: 45.8+ MB\n"
     ]
    }
   ],
   "source": [
    "df_listings.info()"
   ]
  },
  {
   "cell_type": "markdown",
   "metadata": {},
   "source": [
    "#### CHECKING MISSING VALUES "
   ]
  },
  {
   "cell_type": "code",
   "execution_count": 6,
   "metadata": {
    "collapsed": false
   },
   "outputs": [
    {
     "data": {
      "text/plain": [
       "<matplotlib.axes._subplots.AxesSubplot at 0x1dfe3385b00>"
      ]
     },
     "execution_count": 6,
     "metadata": {},
     "output_type": "execute_result"
    },
    {
     "data": {
      "image/png": "[encoded data removed]",
      "text/plain": [
       "<matplotlib.figure.Figure at 0x1dfe33852b0>"
      ]
     },
     "metadata": {},
     "output_type": "display_data"
    }
   ],
   "source": [
    "sns.heatmap(df_listings.isnull(),yticklabels=False,cbar=False,cmap='viridis')"
   ]
  },
  {
   "cell_type": "markdown",
   "metadata": {},
   "source": [
    "#### UNDERSTANDING/CLEANING THE DATA PRESENT\n",
    "\n",
    "#### 1)"
   ]
  },
  {
   "cell_type": "code",
   "execution_count": 129,
   "metadata": {
    "collapsed": false
   },
   "outputs": [
    {
     "data": {
      "text/plain": [
       "False    368940\n",
       "True     131076\n",
       "Name: seller_id, dtype: int64"
      ]
     },
     "execution_count": 129,
     "metadata": {},
     "output_type": "execute_result"
    }
   ],
   "source": [
    "df_listings['seller_id'].apply(lambda x: isinstance(x, (int, np.int64, float, np.float64))).value_counts()"
   ]
  },
  {
   "cell_type": "code",
   "execution_count": 131,
   "metadata": {
    "collapsed": false
   },
   "outputs": [
    {
     "data": {
      "text/plain": [
       "False    500012\n",
       "True          4\n",
       "Name: seller_id, dtype: int64"
      ]
     },
     "execution_count": 131,
     "metadata": {},
     "output_type": "execute_result"
    }
   ],
   "source": [
    "df_listings['seller_id'].apply(lambda x: isinstance(x, ( float, np.float64))).value_counts()"
   ]
  },
  {
   "cell_type": "markdown",
   "metadata": {},
   "source": [
    "#### 2)"
   ]
  },
  {
   "cell_type": "code",
   "execution_count": 7,
   "metadata": {
    "collapsed": false
   },
   "outputs": [],
   "source": [
    "df_lp = df_listings[df_listings['listing_price'].isnull()]"
   ]
  },
  {
   "cell_type": "code",
   "execution_count": 8,
   "metadata": {
    "collapsed": false
   },
   "outputs": [
    {
     "data": {
      "text/plain": [
       "Jobs                    7147\n",
       "Hobbies & Interests      696\n",
       "Services                 229\n",
       "Home, Garden & Tools      13\n",
       "Fashion & Beauty           7\n",
       "Office & Business          6\n",
       "Property                   5\n",
       "Sports & Outdoors          4\n",
       "Farming & Industrial       2\n",
       "Vehicles                   1\n",
       "Name: category_l1_name_en, dtype: int64"
      ]
     },
     "execution_count": 8,
     "metadata": {},
     "output_type": "execute_result"
    }
   ],
   "source": [
    "df_lp['category_l1_name_en'].value_counts()"
   ]
  },
  {
   "cell_type": "markdown",
   "metadata": {},
   "source": [
    "**We understand that the missing values are very high for 'JOBS' category, followed by 'Hobbies & Interests' etcetera**\n",
    "\n",
    "#### 4)"
   ]
  },
  {
   "cell_type": "code",
   "execution_count": 9,
   "metadata": {
    "collapsed": false
   },
   "outputs": [
    {
     "data": {
      "text/plain": [
       "271"
      ]
     },
     "execution_count": 9,
     "metadata": {},
     "output_type": "execute_result"
    }
   ],
   "source": [
    "df_listings['category_l3_name_en'].nunique()"
   ]
  },
  {
   "cell_type": "code",
   "execution_count": 10,
   "metadata": {
    "collapsed": false
   },
   "outputs": [
    {
     "data": {
      "text/plain": [
       "55"
      ]
     },
     "execution_count": 10,
     "metadata": {},
     "output_type": "execute_result"
    }
   ],
   "source": [
    "df_listings['category_l2_name_en'].nunique()"
   ]
  },
  {
   "cell_type": "code",
   "execution_count": 11,
   "metadata": {
    "collapsed": false
   },
   "outputs": [
    {
     "data": {
      "text/plain": [
       "Vehicles                   222198\n",
       "Electronics & Computers     74478\n",
       "Home, Garden & Tools        61722\n",
       "Services                    28892\n",
       "Property                    19753\n",
       "Sports & Outdoors           15712\n",
       "Hobbies & Interests         15178\n",
       "Fashion & Beauty            14449\n",
       "Farming & Industrial        14376\n",
       "Pets                        11337\n",
       "Office & Business            8146\n",
       "Jobs                         7277\n",
       "Kids & Baby                  6470\n",
       "28.21173000                     3\n",
       "28.00690000                     1\n",
       "28.04731000                     1\n",
       "18.42406000                     1\n",
       "26.23637000                     1\n",
       "28.50514000                     1\n",
       "28.70814000                     1\n",
       "28.00104000                     1\n",
       "28.22927000                     1\n",
       "27.92563000                     1\n",
       "Name: category_l1_name_en, dtype: int64"
      ]
     },
     "execution_count": 11,
     "metadata": {},
     "output_type": "execute_result"
    }
   ],
   "source": [
    "df_listings['category_l1_name_en'].nunique()\n",
    "df_listings['category_l1_name_en'].value_counts()"
   ]
  },
  {
   "cell_type": "code",
   "execution_count": 12,
   "metadata": {
    "collapsed": true
   },
   "outputs": [],
   "source": [
    "threshold = 10 \n",
    "value_counts = df_listings['category_l1_name_en'].value_counts() # Entire DataFrame \n",
    "to_remove = value_counts[value_counts <= threshold].index\n",
    "df_listings.replace(to_remove, np.nan, inplace=True)\n"
   ]
  },
  {
   "cell_type": "markdown",
   "metadata": {},
   "source": [
    "#### 5)\n",
    "\n",
    "POints to be noted / Items which could be taken care of:\n",
    "\n",
    "1. Data type conflicts in 3 cols\n",
    "2. Impute the listing price with avg values\n",
    "3. Currently assuming that LATITUE,LONGITUDE features are less important features\n",
    "\n",
    "#### NEED TO MERGE THE 2 FILES - LISTINGS AND QUERIES \n",
    "\n",
    "We cannot directly merge these 2 files because there is no common key in between these 2 files\n",
    "\n",
    "Hence we will use COSINE SIMILARITY to match SEARCH_ITEMS to their most relevant CATEGORIES  \n"
   ]
  },
  {
   "cell_type": "code",
   "execution_count": 13,
   "metadata": {
    "collapsed": true
   },
   "outputs": [],
   "source": [
    "listing_catl1 = df_listings['category_l1_name_en'].values.tolist()\n",
    "listing_catl2 = df_listings['category_l2_name_en'].values.tolist()\n",
    "listing_catl3 = df_listings['category_l3_name_en'].values.tolist()"
   ]
  },
  {
   "cell_type": "code",
   "execution_count": 14,
   "metadata": {
    "collapsed": true
   },
   "outputs": [],
   "source": [
    "queries_ls = df_queries['search_term'].values.tolist()"
   ]
  },
  {
   "cell_type": "code",
   "execution_count": 15,
   "metadata": {
    "collapsed": true
   },
   "outputs": [],
   "source": [
    "## FUNCTION TO CALCULATE COSINE SIMILARITY\n",
    "\n",
    "import re\n",
    "import math\n",
    "from collections import Counter\n",
    "\n",
    "\n",
    "def get_cosine(vec1, vec2):\n",
    "    intersection = set(vec1.keys()) & set(vec2.keys())\n",
    "    numerator = sum([vec1[x] * vec2[x] for x in intersection])\n",
    "\n",
    "    sum1 = sum([vec1[x]**2 for x in vec1.keys()])\n",
    "    sum2 = sum([vec2[x]**2 for x in vec2.keys()])\n",
    "    denominator = math.sqrt(sum1) * math.sqrt(sum2)\n",
    "\n",
    "    if not denominator:\n",
    "        return 0.0\n",
    "    else:\n",
    "        return float(numerator) / denominator\n",
    "\n",
    "\n",
    "def text_to_vector(text):\n",
    "    word = re.compile(r'\\w+')\n",
    "    words = word.findall(text)\n",
    "    return Counter(words)\n",
    "\n",
    "\n",
    "def get_result(content_a, content_b):\n",
    "    text1 = content_a\n",
    "    text2 = content_b\n",
    "\n",
    "    vector1 = text_to_vector(text1)\n",
    "    vector2 = text_to_vector(text2)\n",
    "\n",
    "    cosine_result = get_cosine(vector1, vector2)\n",
    "    return cosine_result\n"
   ]
  },
  {
   "cell_type": "code",
   "execution_count": null,
   "metadata": {
    "collapsed": true
   },
   "outputs": [],
   "source": [
    "# Creating a file for Category-l3 searches\n",
    "for i in set(listing_catl3):\n",
    "    call2_searchq_str = ''\n",
    "    for j in queries_ls:        \n",
    "        if get_result(str(i).lower(),(str(j)).lower())> 0.65:\n",
    "            #print(str(i) + ':' + str(j))\n",
    "            call3_searchq_str = str(i) + ':' + str(j) + '\\n' \n",
    "            myfile = open('catl3_searchq.txt', \"a\")\n",
    "            myfile.write(call3_searchq_str)"
   ]
  },
  {
   "cell_type": "code",
   "execution_count": null,
   "metadata": {
    "collapsed": true
   },
   "outputs": [],
   "source": [
    "# Creating a file for Category-l2 searches\n",
    "for i in set(listing_catl2):\n",
    "    call2_searchq_str = ''\n",
    "    for j in queries_ls:        \n",
    "        if get_result(str(i).lower(),(str(j)).lower())> 0.65:\n",
    "            #print(str(i) + ':' + str(j))\n",
    "            call2_searchq_str = str(i) + ':' + str(j) + '\\n' \n",
    "            myfile = open('catl2_searchq.txt', \"a\")\n",
    "            myfile.write(call2_searchq_str)"
   ]
  },
  {
   "cell_type": "code",
   "execution_count": 17,
   "metadata": {
    "collapsed": true
   },
   "outputs": [],
   "source": [
    "df_cat13_searchq = pd.read_csv('catl3_searchq.txt',sep= ':' , encoding='utf-8', names = ['category_l3_name_en', 'search_term'] )"
   ]
  },
  {
   "cell_type": "code",
   "execution_count": 19,
   "metadata": {
    "collapsed": false
   },
   "outputs": [
    {
     "data": {
      "text/html": [
       "<div>\n",
       "<table border=\"1\" class=\"dataframe\">\n",
       "  <thead>\n",
       "    <tr style=\"text-align: right;\">\n",
       "      <th></th>\n",
       "      <th>category_l3_name_en</th>\n",
       "      <th>search_term</th>\n",
       "    </tr>\n",
       "  </thead>\n",
       "  <tbody>\n",
       "    <tr>\n",
       "      <th>0</th>\n",
       "      <td>catl3</td>\n",
       "      <td>search_term</td>\n",
       "    </tr>\n",
       "    <tr>\n",
       "      <th>1</th>\n",
       "      <td>Hummer</td>\n",
       "      <td>hummer</td>\n",
       "    </tr>\n",
       "    <tr>\n",
       "      <th>2</th>\n",
       "      <td>Hummer</td>\n",
       "      <td>hummer h3</td>\n",
       "    </tr>\n",
       "    <tr>\n",
       "      <th>3</th>\n",
       "      <td>Hummer</td>\n",
       "      <td>hummer h2</td>\n",
       "    </tr>\n",
       "    <tr>\n",
       "      <th>4</th>\n",
       "      <td>Hummer</td>\n",
       "      <td>hummer h1</td>\n",
       "    </tr>\n",
       "  </tbody>\n",
       "</table>\n",
       "</div>"
      ],
      "text/plain": [
       "  category_l3_name_en   search_term\n",
       "0              catl3    search_term\n",
       "1              Hummer        hummer\n",
       "2              Hummer     hummer h3\n",
       "3              Hummer     hummer h2\n",
       "4              Hummer     hummer h1"
      ]
     },
     "execution_count": 19,
     "metadata": {},
     "output_type": "execute_result"
    }
   ],
   "source": [
    "df_cat13_searchq.head()"
   ]
  },
  {
   "cell_type": "code",
   "execution_count": 18,
   "metadata": {
    "collapsed": true
   },
   "outputs": [],
   "source": [
    "df_cat12_searchq = pd.read_csv('catl2_searchq.txt',sep= ':' , names = ['category_l2_name_en', 'search_term'] )"
   ]
  },
  {
   "cell_type": "code",
   "execution_count": 20,
   "metadata": {
    "collapsed": false
   },
   "outputs": [
    {
     "data": {
      "text/html": [
       "<div>\n",
       "<table border=\"1\" class=\"dataframe\">\n",
       "  <thead>\n",
       "    <tr style=\"text-align: right;\">\n",
       "      <th></th>\n",
       "      <th>category_l2_name_en</th>\n",
       "      <th>search_term</th>\n",
       "    </tr>\n",
       "  </thead>\n",
       "  <tbody>\n",
       "    <tr>\n",
       "      <th>0</th>\n",
       "      <td>catl2</td>\n",
       "      <td>search_term</td>\n",
       "    </tr>\n",
       "    <tr>\n",
       "      <th>1</th>\n",
       "      <td>Boats &amp; Aviation</td>\n",
       "      <td>boats</td>\n",
       "    </tr>\n",
       "    <tr>\n",
       "      <th>2</th>\n",
       "      <td>Boats &amp; Aviation</td>\n",
       "      <td>aviation</td>\n",
       "    </tr>\n",
       "    <tr>\n",
       "      <th>3</th>\n",
       "      <td>Boats &amp; Aviation</td>\n",
       "      <td>boats boats</td>\n",
       "    </tr>\n",
       "    <tr>\n",
       "      <th>4</th>\n",
       "      <td>Boats &amp; Aviation</td>\n",
       "      <td>boats and aviation</td>\n",
       "    </tr>\n",
       "  </tbody>\n",
       "</table>\n",
       "</div>"
      ],
      "text/plain": [
       "  category_l2_name_en         search_term\n",
       "0              catl2          search_term\n",
       "1    Boats & Aviation               boats\n",
       "2    Boats & Aviation            aviation\n",
       "3    Boats & Aviation         boats boats\n",
       "4    Boats & Aviation  boats and aviation"
      ]
     },
     "execution_count": 20,
     "metadata": {},
     "output_type": "execute_result"
    }
   ],
   "source": [
    "df_cat12_searchq.head()"
   ]
  },
  {
   "cell_type": "markdown",
   "metadata": {},
   "source": [
    "#### MERGING -  'df_cat12/3_searchq' WITH 'df_queries' TO GET COUNT"
   ]
  },
  {
   "cell_type": "code",
   "execution_count": 29,
   "metadata": {
    "collapsed": false
   },
   "outputs": [
    {
     "data": {
      "text/html": [
       "<div>\n",
       "<table border=\"1\" class=\"dataframe\">\n",
       "  <thead>\n",
       "    <tr style=\"text-align: right;\">\n",
       "      <th></th>\n",
       "      <th>search_term</th>\n",
       "      <th>cnt</th>\n",
       "    </tr>\n",
       "  </thead>\n",
       "  <tbody>\n",
       "    <tr>\n",
       "      <th>0</th>\n",
       "      <td>polo</td>\n",
       "      <td>133394</td>\n",
       "    </tr>\n",
       "    <tr>\n",
       "      <th>1</th>\n",
       "      <td>golf</td>\n",
       "      <td>124172</td>\n",
       "    </tr>\n",
       "    <tr>\n",
       "      <th>2</th>\n",
       "      <td>isuzu</td>\n",
       "      <td>121043</td>\n",
       "    </tr>\n",
       "    <tr>\n",
       "      <th>3</th>\n",
       "      <td>bmw</td>\n",
       "      <td>109099</td>\n",
       "    </tr>\n",
       "    <tr>\n",
       "      <th>4</th>\n",
       "      <td>toyota corolla</td>\n",
       "      <td>107486</td>\n",
       "    </tr>\n",
       "  </tbody>\n",
       "</table>\n",
       "</div>"
      ],
      "text/plain": [
       "      search_term     cnt\n",
       "0            polo  133394\n",
       "1            golf  124172\n",
       "2           isuzu  121043\n",
       "3             bmw  109099\n",
       "4  toyota corolla  107486"
      ]
     },
     "execution_count": 29,
     "metadata": {},
     "output_type": "execute_result"
    }
   ],
   "source": [
    "#df_queries.drop('Unnamed: 0', axis = 1, inplace= True)\n",
    "df_queries.head()"
   ]
  },
  {
   "cell_type": "code",
   "execution_count": 30,
   "metadata": {
    "collapsed": false
   },
   "outputs": [],
   "source": [
    "df_catl3 = pd.merge(df_cat13_searchq, df_queries, on='search_term')"
   ]
  },
  {
   "cell_type": "code",
   "execution_count": 31,
   "metadata": {
    "collapsed": true
   },
   "outputs": [],
   "source": [
    "df_catl2 = pd.merge(df_cat12_searchq, df_queries, on='search_term')"
   ]
  },
  {
   "cell_type": "code",
   "execution_count": 32,
   "metadata": {
    "collapsed": false
   },
   "outputs": [
    {
     "data": {
      "text/html": [
       "<div>\n",
       "<table border=\"1\" class=\"dataframe\">\n",
       "  <thead>\n",
       "    <tr style=\"text-align: right;\">\n",
       "      <th></th>\n",
       "      <th>category_l2_name_en</th>\n",
       "      <th>search_term</th>\n",
       "      <th>cnt</th>\n",
       "    </tr>\n",
       "  </thead>\n",
       "  <tbody>\n",
       "    <tr>\n",
       "      <th>0</th>\n",
       "      <td>Boats &amp; Aviation</td>\n",
       "      <td>boats</td>\n",
       "      <td>18673</td>\n",
       "    </tr>\n",
       "    <tr>\n",
       "      <th>1</th>\n",
       "      <td>Boats &amp; Aviation</td>\n",
       "      <td>aviation</td>\n",
       "      <td>451</td>\n",
       "    </tr>\n",
       "    <tr>\n",
       "      <th>2</th>\n",
       "      <td>Boats &amp; Aviation</td>\n",
       "      <td>boats boats</td>\n",
       "      <td>46</td>\n",
       "    </tr>\n",
       "    <tr>\n",
       "      <th>3</th>\n",
       "      <td>Boats &amp; Aviation</td>\n",
       "      <td>boats and aviation</td>\n",
       "      <td>38</td>\n",
       "    </tr>\n",
       "    <tr>\n",
       "      <th>4</th>\n",
       "      <td>Boats &amp; Aviation</td>\n",
       "      <td>boats.</td>\n",
       "      <td>22</td>\n",
       "    </tr>\n",
       "  </tbody>\n",
       "</table>\n",
       "</div>"
      ],
      "text/plain": [
       "  category_l2_name_en         search_term    cnt\n",
       "0    Boats & Aviation               boats  18673\n",
       "1    Boats & Aviation            aviation    451\n",
       "2    Boats & Aviation         boats boats     46\n",
       "3    Boats & Aviation  boats and aviation     38\n",
       "4    Boats & Aviation              boats.     22"
      ]
     },
     "execution_count": 32,
     "metadata": {},
     "output_type": "execute_result"
    }
   ],
   "source": [
    "df_catl2.head()"
   ]
  },
  {
   "cell_type": "code",
   "execution_count": 34,
   "metadata": {
    "collapsed": false
   },
   "outputs": [],
   "source": [
    "#Create a new df -> which has the the list of the L3 categories with count\n",
    "\n",
    "df_catl3_queries_cnt = pd.DataFrame({'cnt' : df_catl3.groupby( 'category_l3_name_en' ).size()}).reset_index()"
   ]
  },
  {
   "cell_type": "code",
   "execution_count": 158,
   "metadata": {
    "collapsed": false
   },
   "outputs": [
    {
     "data": {
      "text/html": [
       "<div>\n",
       "<table border=\"1\" class=\"dataframe\">\n",
       "  <thead>\n",
       "    <tr style=\"text-align: right;\">\n",
       "      <th></th>\n",
       "      <th>category_l3_name_en</th>\n",
       "      <th>cnt</th>\n",
       "      <th>catl3_ID</th>\n",
       "    </tr>\n",
       "  </thead>\n",
       "  <tbody>\n",
       "    <tr>\n",
       "      <th>0</th>\n",
       "      <td>Accord</td>\n",
       "      <td>5</td>\n",
       "      <td>1</td>\n",
       "    </tr>\n",
       "    <tr>\n",
       "      <th>1</th>\n",
       "      <td>Adly</td>\n",
       "      <td>2</td>\n",
       "      <td>2</td>\n",
       "    </tr>\n",
       "    <tr>\n",
       "      <th>2</th>\n",
       "      <td>Aeon</td>\n",
       "      <td>4</td>\n",
       "      <td>3</td>\n",
       "    </tr>\n",
       "    <tr>\n",
       "      <th>3</th>\n",
       "      <td>Agco / Massey Ferguson</td>\n",
       "      <td>44</td>\n",
       "      <td>4</td>\n",
       "    </tr>\n",
       "    <tr>\n",
       "      <th>4</th>\n",
       "      <td>Airstream</td>\n",
       "      <td>2</td>\n",
       "      <td>5</td>\n",
       "    </tr>\n",
       "  </tbody>\n",
       "</table>\n",
       "</div>"
      ],
      "text/plain": [
       "      category_l3_name_en  cnt  catl3_ID\n",
       "0                  Accord    5         1\n",
       "1                    Adly    2         2\n",
       "2                    Aeon    4         3\n",
       "3  Agco / Massey Ferguson   44         4\n",
       "4               Airstream    2         5"
      ]
     },
     "execution_count": 158,
     "metadata": {},
     "output_type": "execute_result"
    }
   ],
   "source": [
    "df_catl3_queries_cnt.head()\n",
    "#df_catl3_queries_cnt.info()"
   ]
  },
  {
   "cell_type": "code",
   "execution_count": 156,
   "metadata": {
    "collapsed": false
   },
   "outputs": [],
   "source": [
    "df_catl3_queries_cnt['catl3_ID'] = np.arange(1,206)"
   ]
  },
  {
   "cell_type": "code",
   "execution_count": 159,
   "metadata": {
    "collapsed": true
   },
   "outputs": [],
   "source": [
    "# Now merging the Main df with the catl3 - queries count df_catl3_queries_cnt- dataframe\n",
    "\n",
    "df_main_catl3 = pd.merge(df_listings, df_catl3_queries_cnt,how='left', on='category_l3_name_en')"
   ]
  },
  {
   "cell_type": "code",
   "execution_count": 160,
   "metadata": {
    "collapsed": false
   },
   "outputs": [],
   "source": [
    "#Create a new df -> which has the the list of the L2 categories with count\n",
    "\n",
    "df_catl2_queries_cnt = pd.DataFrame({'cnt' : df_catl2.groupby( 'category_l2_name_en' ).size()}).reset_index()\n"
   ]
  },
  {
   "cell_type": "code",
   "execution_count": 161,
   "metadata": {
    "collapsed": true
   },
   "outputs": [],
   "source": [
    "df_catl2_queries_cnt.columns = ['category_l2_name_en', 'cnt2']\n"
   ]
  },
  {
   "cell_type": "code",
   "execution_count": 165,
   "metadata": {
    "collapsed": false
   },
   "outputs": [],
   "source": [
    "df_catl2_queries_cnt['catl2_ID'] = np.arange(1,53)"
   ]
  },
  {
   "cell_type": "code",
   "execution_count": 166,
   "metadata": {
    "collapsed": false
   },
   "outputs": [
    {
     "name": "stdout",
     "output_type": "stream",
     "text": [
      "<class 'pandas.core.frame.DataFrame'>\n",
      "RangeIndex: 52 entries, 0 to 51\n",
      "Data columns (total 3 columns):\n",
      "category_l2_name_en    52 non-null object\n",
      "cnt2                   52 non-null int64\n",
      "catl2_ID               52 non-null int32\n",
      "dtypes: int32(1), int64(1), object(1)\n",
      "memory usage: 1.1+ KB\n"
     ]
    }
   ],
   "source": [
    "df_catl2_queries_cnt.head()\n",
    "df_catl2_queries_cnt.info()"
   ]
  },
  {
   "cell_type": "code",
   "execution_count": 167,
   "metadata": {
    "collapsed": true
   },
   "outputs": [],
   "source": [
    "#  Now merging the Main df_listing with the cal2 - queries count df_catl2_queries_cnt- dataframe\n",
    "\n",
    "df_main_catl2 = pd.merge(df_main_catl3, df_catl2_queries_cnt,how='left', on='category_l2_name_en')\n"
   ]
  },
  {
   "cell_type": "code",
   "execution_count": 168,
   "metadata": {
    "collapsed": false
   },
   "outputs": [
    {
     "name": "stdout",
     "output_type": "stream",
     "text": [
      "<class 'pandas.core.frame.DataFrame'>\n",
      "Int64Index: 500016 entries, 0 to 500015\n",
      "Data columns (total 16 columns):\n",
      "Unnamed: 0             500008 non-null object\n",
      "item_id                500012 non-null float64\n",
      "seller_id              500012 non-null object\n",
      "listing_title          500012 non-null object\n",
      "listing_description    500012 non-null object\n",
      "listing_price          491890 non-null object\n",
      "category_sk            500000 non-null object\n",
      "category_l1_name_en    499988 non-null object\n",
      "category_l2_name_en    499988 non-null object\n",
      "category_l3_name_en    499988 non-null object\n",
      "listing_latitude       499988 non-null float64\n",
      "listing_longitude      456579 non-null float64\n",
      "cnt                    182084 non-null float64\n",
      "catl3_ID               182084 non-null float64\n",
      "cnt2                   492785 non-null float64\n",
      "catl2_ID               492785 non-null float64\n",
      "dtypes: float64(7), object(9)\n",
      "memory usage: 64.9+ MB\n"
     ]
    }
   ],
   "source": [
    "df_main_catl2.info()"
   ]
  },
  {
   "cell_type": "code",
   "execution_count": 171,
   "metadata": {
    "collapsed": true
   },
   "outputs": [],
   "source": [
    "df_main_catl2['category_l23_name'] = df_main_catl2.apply(\n",
    "    lambda row: row['category_l2_name_en'] if row['category_l3_name_en']== 'Unknown' else row['category_l3_name_en'],\n",
    "    axis=1\n",
    ")"
   ]
  },
  {
   "cell_type": "code",
   "execution_count": 172,
   "metadata": {
    "collapsed": false
   },
   "outputs": [
    {
     "data": {
      "text/plain": [
       "321"
      ]
     },
     "execution_count": 172,
     "metadata": {},
     "output_type": "execute_result"
    }
   ],
   "source": [
    "df_main_catl2['category_l23_name'].nunique()"
   ]
  },
  {
   "cell_type": "code",
   "execution_count": 173,
   "metadata": {
    "collapsed": false
   },
   "outputs": [
    {
     "data": {
      "text/plain": [
       "271"
      ]
     },
     "execution_count": 173,
     "metadata": {},
     "output_type": "execute_result"
    }
   ],
   "source": [
    "df_main_catl2['category_l3_name_en'].nunique()"
   ]
  },
  {
   "cell_type": "code",
   "execution_count": 174,
   "metadata": {
    "collapsed": false
   },
   "outputs": [
    {
     "data": {
      "text/plain": [
       "Car Parts & Accessories            37307\n",
       "Furniture & Decor                  31555\n",
       "Toyota                             30718\n",
       "Volkswagen                         28651\n",
       "Cell Phones                        28266\n",
       "Homeware & Appliances              15303\n",
       "Other                              13931\n",
       "Ford                               12544\n",
       "Construction & Home Improvement    12153\n",
       "Gaming & Consoles                  11468\n",
       "TV, Audio & Visual                 11323\n",
       "Computers & Laptops                10876\n",
       "BMW                                 9999\n",
       "Opel                                9966\n",
       "Outdoor & Sports Equipment          9465\n",
       "Nissan                              9375\n",
       "Houses & Flats for rent             9333\n",
       "Tools & DIY                         9162\n",
       "Mercedes-Benz                       7651\n",
       "Other Services                      7334\n",
       "Dogs & Cats                         7170\n",
       "Business & Industrial Equipment     6871\n",
       "Hyundai                             6702\n",
       "Clothing & Shoes                    6694\n",
       "Computer Hardware & Accessories     6327\n",
       "Garden & Braai                      5702\n",
       "Art, Collectibles & Rare Items      5396\n",
       "Prams, Cots & Equipment             5343\n",
       "Mazda                               5287\n",
       "Isuzu                               5257\n",
       "                                   ...  \n",
       "Four-Wheel Camper                      1\n",
       "Zettelmeyer                            1\n",
       "Kinetic                                1\n",
       "Globecar                               1\n",
       "Euro Liner                             1\n",
       "IHI                                    1\n",
       "Atlas                                  1\n",
       "Furukawa                               1\n",
       "BT                                     1\n",
       "Caro                                   1\n",
       "Algema                                 1\n",
       "Karmann                                1\n",
       "Carthago                               1\n",
       "BNG                                    1\n",
       "Anssems                                1\n",
       "Cristall                               1\n",
       "LMC                                    1\n",
       "Fliegl                                 1\n",
       "EVO                                    1\n",
       "Sterling                               1\n",
       "Chateau                                1\n",
       "Roller Team                            1\n",
       "Rivero                                 1\n",
       "New Holland                            1\n",
       "Dayun                                  1\n",
       "Miller                                 1\n",
       "TVS Motor                              1\n",
       "MBK                                    1\n",
       "Yanmar                                 1\n",
       "Seat                                   1\n",
       "Name: category_l23_name, dtype: int64"
      ]
     },
     "execution_count": 174,
     "metadata": {},
     "output_type": "execute_result"
    }
   ],
   "source": [
    "df_main_catl2['category_l23_name'].value_counts()"
   ]
  },
  {
   "cell_type": "code",
   "execution_count": 175,
   "metadata": {
    "collapsed": true
   },
   "outputs": [],
   "source": [
    "## Proceding with building the model using combining cnt + cnt2 values\n",
    "## Creating the final df\n",
    "\n",
    "df_main_catl2['cnt'].fillna(0, inplace=True)\n",
    "\n",
    "df_main_catl2['query_count'] = df_main_catl2['cnt'] + df_main_catl2['cnt2']"
   ]
  },
  {
   "cell_type": "code",
   "execution_count": 176,
   "metadata": {
    "collapsed": false
   },
   "outputs": [],
   "source": [
    "df_final = df_main_catl2[[ 'seller_id','category_l23_name', 'query_count']]"
   ]
  },
  {
   "cell_type": "code",
   "execution_count": 177,
   "metadata": {
    "collapsed": false
   },
   "outputs": [
    {
     "name": "stdout",
     "output_type": "stream",
     "text": [
      "<class 'pandas.core.frame.DataFrame'>\n",
      "Int64Index: 500016 entries, 0 to 500015\n",
      "Data columns (total 3 columns):\n",
      "seller_id            500012 non-null object\n",
      "category_l23_name    499988 non-null object\n",
      "query_count          492785 non-null float64\n",
      "dtypes: float64(1), object(2)\n",
      "memory usage: 15.3+ MB\n"
     ]
    }
   ],
   "source": [
    "df_final.info()"
   ]
  },
  {
   "cell_type": "code",
   "execution_count": 178,
   "metadata": {
    "collapsed": false
   },
   "outputs": [
    {
     "name": "stdout",
     "output_type": "stream",
     "text": [
      "<class 'pandas.core.frame.DataFrame'>\n",
      "Int64Index: 500016 entries, 0 to 500015\n",
      "Data columns (total 3 columns):\n",
      "seller_id            500012 non-null object\n",
      "category_l23_name    499988 non-null object\n",
      "query_count          492785 non-null float64\n",
      "dtypes: float64(1), object(2)\n",
      "memory usage: 15.3+ MB\n"
     ]
    }
   ],
   "source": [
    "#df_final.dropna(inplace=True)\n",
    "df_final.info()"
   ]
  },
  {
   "cell_type": "markdown",
   "metadata": {},
   "source": [
    "#### CREATING THE PRODUCT MATRIX"
   ]
  },
  {
   "cell_type": "code",
   "execution_count": 179,
   "metadata": {
    "collapsed": false
   },
   "outputs": [
    {
     "data": {
      "text/plain": [
       "Car Parts & Accessories            37307\n",
       "Furniture & Decor                  31555\n",
       "Toyota                             30718\n",
       "Volkswagen                         28651\n",
       "Cell Phones                        28266\n",
       "Homeware & Appliances              15303\n",
       "Other                              13931\n",
       "Ford                               12544\n",
       "Construction & Home Improvement    12153\n",
       "Gaming & Consoles                  11468\n",
       "TV, Audio & Visual                 11323\n",
       "Computers & Laptops                10876\n",
       "BMW                                 9999\n",
       "Opel                                9966\n",
       "Outdoor & Sports Equipment          9465\n",
       "Nissan                              9375\n",
       "Houses & Flats for rent             9333\n",
       "Tools & DIY                         9162\n",
       "Mercedes-Benz                       7651\n",
       "Other Services                      7334\n",
       "Dogs & Cats                         7170\n",
       "Business & Industrial Equipment     6871\n",
       "Hyundai                             6702\n",
       "Clothing & Shoes                    6694\n",
       "Computer Hardware & Accessories     6327\n",
       "Garden & Braai                      5702\n",
       "Art, Collectibles & Rare Items      5396\n",
       "Prams, Cots & Equipment             5343\n",
       "Mazda                               5287\n",
       "Isuzu                               5257\n",
       "                                   ...  \n",
       "Four-Wheel Camper                      1\n",
       "Zettelmeyer                            1\n",
       "Kinetic                                1\n",
       "Globecar                               1\n",
       "Euro Liner                             1\n",
       "IHI                                    1\n",
       "Atlas                                  1\n",
       "Furukawa                               1\n",
       "BT                                     1\n",
       "Caro                                   1\n",
       "Algema                                 1\n",
       "Karmann                                1\n",
       "Carthago                               1\n",
       "BNG                                    1\n",
       "Anssems                                1\n",
       "Cristall                               1\n",
       "LMC                                    1\n",
       "Fliegl                                 1\n",
       "EVO                                    1\n",
       "Sterling                               1\n",
       "Chateau                                1\n",
       "Roller Team                            1\n",
       "Rivero                                 1\n",
       "New Holland                            1\n",
       "Dayun                                  1\n",
       "Miller                                 1\n",
       "TVS Motor                              1\n",
       "MBK                                    1\n",
       "Yanmar                                 1\n",
       "Seat                                   1\n",
       "Name: category_l23_name, dtype: int64"
      ]
     },
     "execution_count": 179,
     "metadata": {},
     "output_type": "execute_result"
    }
   ],
   "source": [
    "df_final['query_count'].nunique()\n",
    "df_final['category_l23_name'].value_counts()\n"
   ]
  },
  {
   "cell_type": "code",
   "execution_count": 180,
   "metadata": {
    "collapsed": false
   },
   "outputs": [
    {
     "data": {
      "text/html": [
       "<div>\n",
       "<table border=\"1\" class=\"dataframe\">\n",
       "  <thead>\n",
       "    <tr style=\"text-align: right;\">\n",
       "      <th>category_l23_name</th>\n",
       "      <th>ABG</th>\n",
       "      <th>Accord</th>\n",
       "      <th>Ackermann</th>\n",
       "      <th>Adly</th>\n",
       "      <th>Adria</th>\n",
       "      <th>Aeon</th>\n",
       "      <th>Agados</th>\n",
       "      <th>Agco / Massey Ferguson</th>\n",
       "      <th>Ahlmann</th>\n",
       "      <th>Ahorn</th>\n",
       "      <th>...</th>\n",
       "      <th>Weippert</th>\n",
       "      <th>Wilk</th>\n",
       "      <th>Yamaha</th>\n",
       "      <th>Yanmar</th>\n",
       "      <th>Zetor</th>\n",
       "      <th>Zettelmeyer</th>\n",
       "      <th>Zhongyu</th>\n",
       "      <th>Zündapp</th>\n",
       "      <th>e-max</th>\n",
       "      <th>iPads &amp; Tablets</th>\n",
       "    </tr>\n",
       "    <tr>\n",
       "      <th>seller_id</th>\n",
       "      <th></th>\n",
       "      <th></th>\n",
       "      <th></th>\n",
       "      <th></th>\n",
       "      <th></th>\n",
       "      <th></th>\n",
       "      <th></th>\n",
       "      <th></th>\n",
       "      <th></th>\n",
       "      <th></th>\n",
       "      <th></th>\n",
       "      <th></th>\n",
       "      <th></th>\n",
       "      <th></th>\n",
       "      <th></th>\n",
       "      <th></th>\n",
       "      <th></th>\n",
       "      <th></th>\n",
       "      <th></th>\n",
       "      <th></th>\n",
       "      <th></th>\n",
       "    </tr>\n",
       "  </thead>\n",
       "  <tbody>\n",
       "    <tr>\n",
       "      <th>0</th>\n",
       "      <td>NaN</td>\n",
       "      <td>NaN</td>\n",
       "      <td>NaN</td>\n",
       "      <td>NaN</td>\n",
       "      <td>NaN</td>\n",
       "      <td>NaN</td>\n",
       "      <td>NaN</td>\n",
       "      <td>NaN</td>\n",
       "      <td>NaN</td>\n",
       "      <td>NaN</td>\n",
       "      <td>...</td>\n",
       "      <td>NaN</td>\n",
       "      <td>NaN</td>\n",
       "      <td>NaN</td>\n",
       "      <td>NaN</td>\n",
       "      <td>NaN</td>\n",
       "      <td>NaN</td>\n",
       "      <td>NaN</td>\n",
       "      <td>NaN</td>\n",
       "      <td>NaN</td>\n",
       "      <td>NaN</td>\n",
       "    </tr>\n",
       "    <tr>\n",
       "      <th>1</th>\n",
       "      <td>NaN</td>\n",
       "      <td>NaN</td>\n",
       "      <td>NaN</td>\n",
       "      <td>NaN</td>\n",
       "      <td>NaN</td>\n",
       "      <td>NaN</td>\n",
       "      <td>NaN</td>\n",
       "      <td>NaN</td>\n",
       "      <td>NaN</td>\n",
       "      <td>NaN</td>\n",
       "      <td>...</td>\n",
       "      <td>NaN</td>\n",
       "      <td>NaN</td>\n",
       "      <td>NaN</td>\n",
       "      <td>NaN</td>\n",
       "      <td>NaN</td>\n",
       "      <td>NaN</td>\n",
       "      <td>NaN</td>\n",
       "      <td>NaN</td>\n",
       "      <td>NaN</td>\n",
       "      <td>NaN</td>\n",
       "    </tr>\n",
       "    <tr>\n",
       "      <th>2</th>\n",
       "      <td>NaN</td>\n",
       "      <td>NaN</td>\n",
       "      <td>NaN</td>\n",
       "      <td>NaN</td>\n",
       "      <td>NaN</td>\n",
       "      <td>NaN</td>\n",
       "      <td>NaN</td>\n",
       "      <td>NaN</td>\n",
       "      <td>NaN</td>\n",
       "      <td>NaN</td>\n",
       "      <td>...</td>\n",
       "      <td>NaN</td>\n",
       "      <td>NaN</td>\n",
       "      <td>NaN</td>\n",
       "      <td>NaN</td>\n",
       "      <td>NaN</td>\n",
       "      <td>NaN</td>\n",
       "      <td>NaN</td>\n",
       "      <td>NaN</td>\n",
       "      <td>NaN</td>\n",
       "      <td>NaN</td>\n",
       "    </tr>\n",
       "    <tr>\n",
       "      <th>3</th>\n",
       "      <td>NaN</td>\n",
       "      <td>NaN</td>\n",
       "      <td>NaN</td>\n",
       "      <td>NaN</td>\n",
       "      <td>NaN</td>\n",
       "      <td>NaN</td>\n",
       "      <td>NaN</td>\n",
       "      <td>NaN</td>\n",
       "      <td>NaN</td>\n",
       "      <td>NaN</td>\n",
       "      <td>...</td>\n",
       "      <td>NaN</td>\n",
       "      <td>NaN</td>\n",
       "      <td>NaN</td>\n",
       "      <td>NaN</td>\n",
       "      <td>NaN</td>\n",
       "      <td>NaN</td>\n",
       "      <td>NaN</td>\n",
       "      <td>NaN</td>\n",
       "      <td>NaN</td>\n",
       "      <td>NaN</td>\n",
       "    </tr>\n",
       "    <tr>\n",
       "      <th>4</th>\n",
       "      <td>NaN</td>\n",
       "      <td>NaN</td>\n",
       "      <td>NaN</td>\n",
       "      <td>NaN</td>\n",
       "      <td>NaN</td>\n",
       "      <td>NaN</td>\n",
       "      <td>NaN</td>\n",
       "      <td>NaN</td>\n",
       "      <td>NaN</td>\n",
       "      <td>NaN</td>\n",
       "      <td>...</td>\n",
       "      <td>NaN</td>\n",
       "      <td>NaN</td>\n",
       "      <td>NaN</td>\n",
       "      <td>NaN</td>\n",
       "      <td>NaN</td>\n",
       "      <td>NaN</td>\n",
       "      <td>NaN</td>\n",
       "      <td>NaN</td>\n",
       "      <td>NaN</td>\n",
       "      <td>NaN</td>\n",
       "    </tr>\n",
       "  </tbody>\n",
       "</table>\n",
       "<p>5 rows × 321 columns</p>\n",
       "</div>"
      ],
      "text/plain": [
       "category_l23_name  ABG  Accord  Ackermann  Adly  Adria  Aeon  Agados  \\\n",
       "seller_id                                                              \n",
       "0                  NaN     NaN        NaN   NaN    NaN   NaN     NaN   \n",
       "1                  NaN     NaN        NaN   NaN    NaN   NaN     NaN   \n",
       "2                  NaN     NaN        NaN   NaN    NaN   NaN     NaN   \n",
       "3                  NaN     NaN        NaN   NaN    NaN   NaN     NaN   \n",
       "4                  NaN     NaN        NaN   NaN    NaN   NaN     NaN   \n",
       "\n",
       "category_l23_name  Agco / Massey Ferguson  Ahlmann  Ahorn       ...         \\\n",
       "seller_id                                                       ...          \n",
       "0                                     NaN      NaN    NaN       ...          \n",
       "1                                     NaN      NaN    NaN       ...          \n",
       "2                                     NaN      NaN    NaN       ...          \n",
       "3                                     NaN      NaN    NaN       ...          \n",
       "4                                     NaN      NaN    NaN       ...          \n",
       "\n",
       "category_l23_name  Weippert  Wilk  Yamaha  Yanmar  Zetor  Zettelmeyer  \\\n",
       "seller_id                                                               \n",
       "0                       NaN   NaN     NaN     NaN    NaN          NaN   \n",
       "1                       NaN   NaN     NaN     NaN    NaN          NaN   \n",
       "2                       NaN   NaN     NaN     NaN    NaN          NaN   \n",
       "3                       NaN   NaN     NaN     NaN    NaN          NaN   \n",
       "4                       NaN   NaN     NaN     NaN    NaN          NaN   \n",
       "\n",
       "category_l23_name  Zhongyu  Zündapp  e-max  iPads & Tablets  \n",
       "seller_id                                                    \n",
       "0                      NaN      NaN    NaN              NaN  \n",
       "1                      NaN      NaN    NaN              NaN  \n",
       "2                      NaN      NaN    NaN              NaN  \n",
       "3                      NaN      NaN    NaN              NaN  \n",
       "4                      NaN      NaN    NaN              NaN  \n",
       "\n",
       "[5 rows x 321 columns]"
      ]
     },
     "execution_count": 180,
     "metadata": {},
     "output_type": "execute_result"
    }
   ],
   "source": [
    "productmat = df_final.pivot_table(index='seller_id',columns='category_l23_name',values='query_count')\n",
    "productmat.head()\n"
   ]
  },
  {
   "cell_type": "code",
   "execution_count": 117,
   "metadata": {
    "collapsed": false
   },
   "outputs": [
    {
     "data": {
      "text/html": [
       "<div>\n",
       "<table border=\"1\" class=\"dataframe\">\n",
       "  <thead>\n",
       "    <tr style=\"text-align: right;\">\n",
       "      <th>category_l23_name</th>\n",
       "      <th>ABG</th>\n",
       "      <th>Accord</th>\n",
       "      <th>Ackermann</th>\n",
       "      <th>Adly</th>\n",
       "      <th>Adria</th>\n",
       "      <th>Aeon</th>\n",
       "      <th>Agados</th>\n",
       "      <th>Agco / Massey Ferguson</th>\n",
       "      <th>Ahlmann</th>\n",
       "      <th>Ahorn</th>\n",
       "      <th>...</th>\n",
       "      <th>Weippert</th>\n",
       "      <th>Wilk</th>\n",
       "      <th>Yamaha</th>\n",
       "      <th>Yanmar</th>\n",
       "      <th>Zetor</th>\n",
       "      <th>Zettelmeyer</th>\n",
       "      <th>Zhongyu</th>\n",
       "      <th>Zündapp</th>\n",
       "      <th>e-max</th>\n",
       "      <th>iPads &amp; Tablets</th>\n",
       "    </tr>\n",
       "    <tr>\n",
       "      <th>seller_id</th>\n",
       "      <th></th>\n",
       "      <th></th>\n",
       "      <th></th>\n",
       "      <th></th>\n",
       "      <th></th>\n",
       "      <th></th>\n",
       "      <th></th>\n",
       "      <th></th>\n",
       "      <th></th>\n",
       "      <th></th>\n",
       "      <th></th>\n",
       "      <th></th>\n",
       "      <th></th>\n",
       "      <th></th>\n",
       "      <th></th>\n",
       "      <th></th>\n",
       "      <th></th>\n",
       "      <th></th>\n",
       "      <th></th>\n",
       "      <th></th>\n",
       "      <th></th>\n",
       "    </tr>\n",
       "  </thead>\n",
       "  <tbody>\n",
       "    <tr>\n",
       "      <th>811</th>\n",
       "      <td>NaN</td>\n",
       "      <td>NaN</td>\n",
       "      <td>NaN</td>\n",
       "      <td>NaN</td>\n",
       "      <td>NaN</td>\n",
       "      <td>NaN</td>\n",
       "      <td>NaN</td>\n",
       "      <td>NaN</td>\n",
       "      <td>NaN</td>\n",
       "      <td>NaN</td>\n",
       "      <td>...</td>\n",
       "      <td>NaN</td>\n",
       "      <td>NaN</td>\n",
       "      <td>689.0</td>\n",
       "      <td>NaN</td>\n",
       "      <td>NaN</td>\n",
       "      <td>NaN</td>\n",
       "      <td>NaN</td>\n",
       "      <td>NaN</td>\n",
       "      <td>NaN</td>\n",
       "      <td>NaN</td>\n",
       "    </tr>\n",
       "    <tr>\n",
       "      <th>1241</th>\n",
       "      <td>NaN</td>\n",
       "      <td>NaN</td>\n",
       "      <td>NaN</td>\n",
       "      <td>NaN</td>\n",
       "      <td>NaN</td>\n",
       "      <td>NaN</td>\n",
       "      <td>NaN</td>\n",
       "      <td>NaN</td>\n",
       "      <td>NaN</td>\n",
       "      <td>NaN</td>\n",
       "      <td>...</td>\n",
       "      <td>NaN</td>\n",
       "      <td>NaN</td>\n",
       "      <td>689.0</td>\n",
       "      <td>NaN</td>\n",
       "      <td>NaN</td>\n",
       "      <td>NaN</td>\n",
       "      <td>NaN</td>\n",
       "      <td>NaN</td>\n",
       "      <td>NaN</td>\n",
       "      <td>NaN</td>\n",
       "    </tr>\n",
       "    <tr>\n",
       "      <th>2677</th>\n",
       "      <td>NaN</td>\n",
       "      <td>NaN</td>\n",
       "      <td>NaN</td>\n",
       "      <td>NaN</td>\n",
       "      <td>NaN</td>\n",
       "      <td>NaN</td>\n",
       "      <td>NaN</td>\n",
       "      <td>NaN</td>\n",
       "      <td>NaN</td>\n",
       "      <td>NaN</td>\n",
       "      <td>...</td>\n",
       "      <td>NaN</td>\n",
       "      <td>NaN</td>\n",
       "      <td>689.0</td>\n",
       "      <td>NaN</td>\n",
       "      <td>NaN</td>\n",
       "      <td>NaN</td>\n",
       "      <td>NaN</td>\n",
       "      <td>NaN</td>\n",
       "      <td>NaN</td>\n",
       "      <td>NaN</td>\n",
       "    </tr>\n",
       "    <tr>\n",
       "      <th>6276</th>\n",
       "      <td>NaN</td>\n",
       "      <td>NaN</td>\n",
       "      <td>NaN</td>\n",
       "      <td>NaN</td>\n",
       "      <td>NaN</td>\n",
       "      <td>NaN</td>\n",
       "      <td>NaN</td>\n",
       "      <td>NaN</td>\n",
       "      <td>NaN</td>\n",
       "      <td>NaN</td>\n",
       "      <td>...</td>\n",
       "      <td>NaN</td>\n",
       "      <td>NaN</td>\n",
       "      <td>689.0</td>\n",
       "      <td>NaN</td>\n",
       "      <td>NaN</td>\n",
       "      <td>NaN</td>\n",
       "      <td>NaN</td>\n",
       "      <td>NaN</td>\n",
       "      <td>NaN</td>\n",
       "      <td>NaN</td>\n",
       "    </tr>\n",
       "    <tr>\n",
       "      <th>18105</th>\n",
       "      <td>NaN</td>\n",
       "      <td>NaN</td>\n",
       "      <td>NaN</td>\n",
       "      <td>NaN</td>\n",
       "      <td>NaN</td>\n",
       "      <td>NaN</td>\n",
       "      <td>NaN</td>\n",
       "      <td>NaN</td>\n",
       "      <td>NaN</td>\n",
       "      <td>NaN</td>\n",
       "      <td>...</td>\n",
       "      <td>NaN</td>\n",
       "      <td>NaN</td>\n",
       "      <td>689.0</td>\n",
       "      <td>NaN</td>\n",
       "      <td>NaN</td>\n",
       "      <td>NaN</td>\n",
       "      <td>NaN</td>\n",
       "      <td>NaN</td>\n",
       "      <td>NaN</td>\n",
       "      <td>NaN</td>\n",
       "    </tr>\n",
       "  </tbody>\n",
       "</table>\n",
       "<p>5 rows × 318 columns</p>\n",
       "</div>"
      ],
      "text/plain": [
       "category_l23_name  ABG  Accord  Ackermann  Adly  Adria  Aeon  Agados  \\\n",
       "seller_id                                                              \n",
       "811                NaN     NaN        NaN   NaN    NaN   NaN     NaN   \n",
       "1241               NaN     NaN        NaN   NaN    NaN   NaN     NaN   \n",
       "2677               NaN     NaN        NaN   NaN    NaN   NaN     NaN   \n",
       "6276               NaN     NaN        NaN   NaN    NaN   NaN     NaN   \n",
       "18105              NaN     NaN        NaN   NaN    NaN   NaN     NaN   \n",
       "\n",
       "category_l23_name  Agco / Massey Ferguson  Ahlmann  Ahorn       ...         \\\n",
       "seller_id                                                       ...          \n",
       "811                                   NaN      NaN    NaN       ...          \n",
       "1241                                  NaN      NaN    NaN       ...          \n",
       "2677                                  NaN      NaN    NaN       ...          \n",
       "6276                                  NaN      NaN    NaN       ...          \n",
       "18105                                 NaN      NaN    NaN       ...          \n",
       "\n",
       "category_l23_name  Weippert  Wilk  Yamaha  Yanmar  Zetor  Zettelmeyer  \\\n",
       "seller_id                                                               \n",
       "811                     NaN   NaN   689.0     NaN    NaN          NaN   \n",
       "1241                    NaN   NaN   689.0     NaN    NaN          NaN   \n",
       "2677                    NaN   NaN   689.0     NaN    NaN          NaN   \n",
       "6276                    NaN   NaN   689.0     NaN    NaN          NaN   \n",
       "18105                   NaN   NaN   689.0     NaN    NaN          NaN   \n",
       "\n",
       "category_l23_name  Zhongyu  Zündapp  e-max  iPads & Tablets  \n",
       "seller_id                                                    \n",
       "811                    NaN      NaN    NaN              NaN  \n",
       "1241                   NaN      NaN    NaN              NaN  \n",
       "2677                   NaN      NaN    NaN              NaN  \n",
       "6276                   NaN      NaN    NaN              NaN  \n",
       "18105                  NaN      NaN    NaN              NaN  \n",
       "\n",
       "[5 rows x 318 columns]"
      ]
     },
     "execution_count": 117,
     "metadata": {},
     "output_type": "execute_result"
    }
   ],
   "source": [
    "productmat = productmat[np.isfinite(productmat['Toyota'])]\n",
    "productmat.head()"
   ]
  },
  {
   "cell_type": "code",
   "execution_count": 90,
   "metadata": {
    "collapsed": false
   },
   "outputs": [
    {
     "data": {
      "text/plain": [
       "0.992"
      ]
     },
     "execution_count": 90,
     "metadata": {},
     "output_type": "execute_result"
    }
   ],
   "source": [
    "n_sellers = df_final['seller_id'].nunique()\n",
    "n_items = df_final['category_l23_name'].nunique()\n",
    "sparsity=round(1.0-len(df_final)/float(n_sellers*n_items),3)\n",
    "sparsity"
   ]
  },
  {
   "cell_type": "code",
   "execution_count": 69,
   "metadata": {
    "collapsed": false
   },
   "outputs": [
    {
     "data": {
      "text/html": [
       "<div>\n",
       "<table border=\"1\" class=\"dataframe\">\n",
       "  <thead>\n",
       "    <tr style=\"text-align: right;\">\n",
       "      <th></th>\n",
       "      <th>search_term</th>\n",
       "      <th>cnt</th>\n",
       "    </tr>\n",
       "  </thead>\n",
       "  <tbody>\n",
       "    <tr>\n",
       "      <th>0</th>\n",
       "      <td>polo</td>\n",
       "      <td>133394</td>\n",
       "    </tr>\n",
       "    <tr>\n",
       "      <th>1</th>\n",
       "      <td>golf</td>\n",
       "      <td>124172</td>\n",
       "    </tr>\n",
       "    <tr>\n",
       "      <th>2</th>\n",
       "      <td>isuzu</td>\n",
       "      <td>121043</td>\n",
       "    </tr>\n",
       "    <tr>\n",
       "      <th>3</th>\n",
       "      <td>bmw</td>\n",
       "      <td>109099</td>\n",
       "    </tr>\n",
       "    <tr>\n",
       "      <th>4</th>\n",
       "      <td>toyota corolla</td>\n",
       "      <td>107486</td>\n",
       "    </tr>\n",
       "    <tr>\n",
       "      <th>5</th>\n",
       "      <td>toyota</td>\n",
       "      <td>99802</td>\n",
       "    </tr>\n",
       "    <tr>\n",
       "      <th>6</th>\n",
       "      <td>hilux</td>\n",
       "      <td>95592</td>\n",
       "    </tr>\n",
       "    <tr>\n",
       "      <th>7</th>\n",
       "      <td>toyota tazz</td>\n",
       "      <td>94877</td>\n",
       "    </tr>\n",
       "    <tr>\n",
       "      <th>8</th>\n",
       "      <td>cars</td>\n",
       "      <td>93824</td>\n",
       "    </tr>\n",
       "    <tr>\n",
       "      <th>9</th>\n",
       "      <td>bakkie</td>\n",
       "      <td>89243</td>\n",
       "    </tr>\n",
       "  </tbody>\n",
       "</table>\n",
       "</div>"
      ],
      "text/plain": [
       "      search_term     cnt\n",
       "0            polo  133394\n",
       "1            golf  124172\n",
       "2           isuzu  121043\n",
       "3             bmw  109099\n",
       "4  toyota corolla  107486\n",
       "5          toyota   99802\n",
       "6           hilux   95592\n",
       "7     toyota tazz   94877\n",
       "8            cars   93824\n",
       "9          bakkie   89243"
      ]
     },
     "execution_count": 69,
     "metadata": {},
     "output_type": "execute_result"
    }
   ],
   "source": [
    "df_queries.sort_values('cnt',ascending=False).head(10)"
   ]
  },
  {
   "cell_type": "code",
   "execution_count": 118,
   "metadata": {
    "collapsed": false
   },
   "outputs": [
    {
     "data": {
      "text/plain": [
       "seller_id\n",
       "811      1902.0\n",
       "1241     1902.0\n",
       "2677     1902.0\n",
       "6276     1896.0\n",
       "18105    1902.0\n",
       "Name: Toyota, dtype: float64"
      ]
     },
     "execution_count": 118,
     "metadata": {},
     "output_type": "execute_result"
    }
   ],
   "source": [
    "cameras_queries = productmat['Toyota']\n",
    "cameras_queries.head()"
   ]
  },
  {
   "cell_type": "code",
   "execution_count": 119,
   "metadata": {
    "collapsed": false
   },
   "outputs": [
    {
     "name": "stderr",
     "output_type": "stream",
     "text": [
      "C:\\Users\\sleelag\\AppData\\Local\\Continuum\\Anaconda3\\lib\\site-packages\\numpy\\lib\\function_base.py:3175: RuntimeWarning: Degrees of freedom <= 0 for slice\n",
      "  c = cov(x, y, rowvar)\n",
      "C:\\Users\\sleelag\\AppData\\Local\\Continuum\\Anaconda3\\lib\\site-packages\\numpy\\lib\\function_base.py:3109: RuntimeWarning: divide by zero encountered in double_scalars\n",
      "  c *= 1. / np.float64(fact)\n"
     ]
    },
    {
     "data": {
      "text/plain": [
       "category_l23_name\n",
       "ABG                             NaN\n",
       "Accord                          NaN\n",
       "Ackermann                       NaN\n",
       "Adly                            NaN\n",
       "Adria                           NaN\n",
       "Aeon                            NaN\n",
       "Agados                          NaN\n",
       "Agco / Massey Ferguson          NaN\n",
       "Ahlmann                         NaN\n",
       "Ahorn                           NaN\n",
       "Airstream                       NaN\n",
       "Aixam                           NaN\n",
       "Alfa Romeo                      NaN\n",
       "Algema                          NaN\n",
       "Aliner                          NaN\n",
       "Alpha                           NaN\n",
       "Amazone                         NaN\n",
       "Americana                       NaN\n",
       "Ammann                          NaN\n",
       "Anssems                         NaN\n",
       "Aprilia                         NaN\n",
       "Arca                            NaN\n",
       "Arctic Cat                      NaN\n",
       "Asia Wolf                       NaN\n",
       "Aston Martin                    NaN\n",
       "Atlas                           NaN\n",
       "Audi                            NaN\n",
       "Autostar                        NaN\n",
       "Avento                          NaN\n",
       "BMW                             NaN\n",
       "                               ... \n",
       "Tata                            NaN\n",
       "Terex                           NaN\n",
       "Thor                            NaN\n",
       "Tools & DIY                     NaN\n",
       "Toyota                          1.0\n",
       "Toys, Games & Remote Control    NaN\n",
       "Trail-Lite                      NaN\n",
       "Trailor                         NaN\n",
       "Transport                       NaN\n",
       "Triton                          NaN\n",
       "Triumph                         NaN\n",
       "Unimog                          NaN\n",
       "Ural                            NaN\n",
       "VW                              NaN\n",
       "Vacation Rentals                NaN\n",
       "Vespa                           NaN\n",
       "Volkswagen                      NaN\n",
       "Volvo                           NaN\n",
       "Voxan                           NaN\n",
       "Wacker                          NaN\n",
       "Weippert                        NaN\n",
       "Wilk                            NaN\n",
       "Yamaha                          NaN\n",
       "Yanmar                          NaN\n",
       "Zetor                           NaN\n",
       "Zettelmeyer                     NaN\n",
       "Zhongyu                         NaN\n",
       "Zündapp                         NaN\n",
       "e-max                           NaN\n",
       "iPads & Tablets                 NaN\n",
       "dtype: float64"
      ]
     },
     "execution_count": 119,
     "metadata": {},
     "output_type": "execute_result"
    }
   ],
   "source": [
    "## We can then use corrwith() method to get correlations between two pandas series:\n",
    "\n",
    "similar_to_cameras = productmat.corrwith(cameras_queries)\n",
    "similar_to_cameras"
   ]
  },
  {
   "cell_type": "code",
   "execution_count": 120,
   "metadata": {
    "collapsed": false
   },
   "outputs": [
    {
     "data": {
      "text/html": [
       "<div>\n",
       "<table border=\"1\" class=\"dataframe\">\n",
       "  <thead>\n",
       "    <tr style=\"text-align: right;\">\n",
       "      <th></th>\n",
       "      <th>Correlation</th>\n",
       "    </tr>\n",
       "    <tr>\n",
       "      <th>category_l23_name</th>\n",
       "      <th></th>\n",
       "    </tr>\n",
       "  </thead>\n",
       "  <tbody>\n",
       "    <tr>\n",
       "      <th>Honda</th>\n",
       "      <td>0.166667</td>\n",
       "    </tr>\n",
       "    <tr>\n",
       "      <th>Mercedes-Benz</th>\n",
       "      <td>1.000000</td>\n",
       "    </tr>\n",
       "    <tr>\n",
       "      <th>Toyota</th>\n",
       "      <td>1.000000</td>\n",
       "    </tr>\n",
       "  </tbody>\n",
       "</table>\n",
       "</div>"
      ],
      "text/plain": [
       "                   Correlation\n",
       "category_l23_name             \n",
       "Honda                 0.166667\n",
       "Mercedes-Benz         1.000000\n",
       "Toyota                1.000000"
      ]
     },
     "execution_count": 120,
     "metadata": {},
     "output_type": "execute_result"
    }
   ],
   "source": [
    "##Let's clean this by removing NaN values and using a DataFrame instead of a series:\n",
    "corr_cameras = pd.DataFrame(similar_to_cameras,columns=['Correlation'])\n",
    "#corr_cameras.dropna(inplace=True)\n",
    "corr_cameras = corr_cameras[np.isfinite(corr_cameras['Correlation'])]\n",
    "corr_cameras.head()\n"
   ]
  },
  {
   "cell_type": "markdown",
   "metadata": {},
   "source": [
    "### SVD \n",
    "\n",
    "\n",
    "#### Matrix factorization method is Singular value decomposition (SVD). Collaborative Filtering can be formulated by approximating a matrix X by using singular value decomposition."
   ]
  },
  {
   "cell_type": "code",
   "execution_count": 181,
   "metadata": {
    "collapsed": false
   },
   "outputs": [
    {
     "data": {
      "text/plain": [
       "False    500012\n",
       "True          4\n",
       "Name: seller_id, dtype: int64"
      ]
     },
     "execution_count": 181,
     "metadata": {},
     "output_type": "execute_result"
    }
   ],
   "source": [
    "df_main_catl2['seller_id'].apply(lambda x: isinstance(x, ( float, np.float64))).value_counts()"
   ]
  },
  {
   "cell_type": "code",
   "execution_count": 194,
   "metadata": {
    "collapsed": false
   },
   "outputs": [],
   "source": [
    "## Combining catl2 + catl3 values\n",
    "## Creating the final df\n",
    "\n",
    "df_main_catl2['catl2_ID'].fillna(0, inplace=True)\n",
    "df_main_catl2['catl3_ID'].fillna(0, inplace=True)\n",
    "#df_main_catl2['query_count'] = df_main_catl2['cnt'] + df_main_catl2['cnt2']"
   ]
  },
  {
   "cell_type": "code",
   "execution_count": 220,
   "metadata": {
    "collapsed": false
   },
   "outputs": [],
   "source": [
    "#df_main_catl2['catl2_ID'].map(int)\n",
    "#df_main_catl2['catl3_ID'].map(int)\n",
    "\n",
    "df_main_catl2[['catl2_ID','catl3_ID']] = df_main_catl2[['catl2_ID','catl3_ID']].astype(int)\n",
    "\n",
    "#df_main_catl2.head()"
   ]
  },
  {
   "cell_type": "code",
   "execution_count": 211,
   "metadata": {
    "collapsed": false
   },
   "outputs": [],
   "source": [
    "df_main_catl2['cat_ID'] = df_main_catl2['catl2_ID'].map(str)  + df_main_catl2['catl3_ID'].map(str)"
   ]
  },
  {
   "cell_type": "code",
   "execution_count": 212,
   "metadata": {
    "collapsed": false
   },
   "outputs": [
    {
     "data": {
      "text/html": [
       "<div>\n",
       "<table border=\"1\" class=\"dataframe\">\n",
       "  <thead>\n",
       "    <tr style=\"text-align: right;\">\n",
       "      <th></th>\n",
       "      <th>Unnamed: 0</th>\n",
       "      <th>item_id</th>\n",
       "      <th>seller_id</th>\n",
       "      <th>listing_title</th>\n",
       "      <th>listing_description</th>\n",
       "      <th>listing_price</th>\n",
       "      <th>category_sk</th>\n",
       "      <th>category_l1_name_en</th>\n",
       "      <th>category_l2_name_en</th>\n",
       "      <th>category_l3_name_en</th>\n",
       "      <th>listing_latitude</th>\n",
       "      <th>listing_longitude</th>\n",
       "      <th>cnt</th>\n",
       "      <th>catl3_ID</th>\n",
       "      <th>cnt2</th>\n",
       "      <th>catl2_ID</th>\n",
       "      <th>cat_ID</th>\n",
       "      <th>category_l23_name</th>\n",
       "      <th>query_count</th>\n",
       "    </tr>\n",
       "  </thead>\n",
       "  <tbody>\n",
       "    <tr>\n",
       "      <th>0</th>\n",
       "      <td>0</td>\n",
       "      <td>0.0</td>\n",
       "      <td>0</td>\n",
       "      <td>Nice wooden makes</td>\n",
       "      <td>We build all different types for sale</td>\n",
       "      <td>17500.00</td>\n",
       "      <td>olx|mea|za|806|809</td>\n",
       "      <td>Home, Garden &amp; Tools</td>\n",
       "      <td>Garden &amp; Braai</td>\n",
       "      <td>Unknown</td>\n",
       "      <td>-25.43067</td>\n",
       "      <td>27.84873</td>\n",
       "      <td>0.0</td>\n",
       "      <td>0</td>\n",
       "      <td>9.0</td>\n",
       "      <td>24</td>\n",
       "      <td>240</td>\n",
       "      <td>Garden &amp; Braai</td>\n",
       "      <td>9.0</td>\n",
       "    </tr>\n",
       "    <tr>\n",
       "      <th>1</th>\n",
       "      <td>1</td>\n",
       "      <td>1.0</td>\n",
       "      <td>1</td>\n",
       "      <td>A Shinning 2013 Chevrolet 1.4 Utility Bakkie w...</td>\n",
       "      <td>A Stunning accident free bargain that has just...</td>\n",
       "      <td>94890.00</td>\n",
       "      <td>olx|mea|za|362|378|2012</td>\n",
       "      <td>Vehicles</td>\n",
       "      <td>Cars &amp; Bakkies</td>\n",
       "      <td>Chevrolet</td>\n",
       "      <td>-29.73714</td>\n",
       "      <td>31.07364</td>\n",
       "      <td>258.0</td>\n",
       "      <td>40</td>\n",
       "      <td>20.0</td>\n",
       "      <td>11</td>\n",
       "      <td>1140</td>\n",
       "      <td>Chevrolet</td>\n",
       "      <td>278.0</td>\n",
       "    </tr>\n",
       "    <tr>\n",
       "      <th>2</th>\n",
       "      <td>2</td>\n",
       "      <td>2.0</td>\n",
       "      <td>2</td>\n",
       "      <td>Lampshades various</td>\n",
       "      <td>A variety of lampshades in white</td>\n",
       "      <td>20.00</td>\n",
       "      <td>olx|mea|za|806|807</td>\n",
       "      <td>Home, Garden &amp; Tools</td>\n",
       "      <td>Furniture &amp; Decor</td>\n",
       "      <td>Unknown</td>\n",
       "      <td>-33.88159</td>\n",
       "      <td>18.55522</td>\n",
       "      <td>0.0</td>\n",
       "      <td>0</td>\n",
       "      <td>9.0</td>\n",
       "      <td>22</td>\n",
       "      <td>220</td>\n",
       "      <td>Furniture &amp; Decor</td>\n",
       "      <td>9.0</td>\n",
       "    </tr>\n",
       "    <tr>\n",
       "      <th>3</th>\n",
       "      <td>3</td>\n",
       "      <td>3.0</td>\n",
       "      <td>3</td>\n",
       "      <td>Toyota Corolla</td>\n",
       "      <td>Toyota Corolla 1.3 Professional, Front Electri...</td>\n",
       "      <td>63995.00</td>\n",
       "      <td>olx|mea|za|362|378|2067</td>\n",
       "      <td>Vehicles</td>\n",
       "      <td>Cars &amp; Bakkies</td>\n",
       "      <td>Toyota</td>\n",
       "      <td>-26.10757</td>\n",
       "      <td>28.05670</td>\n",
       "      <td>1882.0</td>\n",
       "      <td>190</td>\n",
       "      <td>20.0</td>\n",
       "      <td>11</td>\n",
       "      <td>11190</td>\n",
       "      <td>Toyota</td>\n",
       "      <td>1902.0</td>\n",
       "    </tr>\n",
       "    <tr>\n",
       "      <th>4</th>\n",
       "      <td>4</td>\n",
       "      <td>4.0</td>\n",
       "      <td>4</td>\n",
       "      <td>bench grinder and buffer</td>\n",
       "      <td>bench grinder and.buffer...R800 for both</td>\n",
       "      <td>800.00</td>\n",
       "      <td>olx|mea|za|806|910</td>\n",
       "      <td>Home, Garden &amp; Tools</td>\n",
       "      <td>Tools &amp; DIY</td>\n",
       "      <td>Unknown</td>\n",
       "      <td>-26.17190</td>\n",
       "      <td>27.91318</td>\n",
       "      <td>0.0</td>\n",
       "      <td>0</td>\n",
       "      <td>10.0</td>\n",
       "      <td>47</td>\n",
       "      <td>470</td>\n",
       "      <td>Tools &amp; DIY</td>\n",
       "      <td>10.0</td>\n",
       "    </tr>\n",
       "  </tbody>\n",
       "</table>\n",
       "</div>"
      ],
      "text/plain": [
       "  Unnamed: 0  item_id seller_id  \\\n",
       "0          0      0.0         0   \n",
       "1          1      1.0         1   \n",
       "2          2      2.0         2   \n",
       "3          3      3.0         3   \n",
       "4          4      4.0         4   \n",
       "\n",
       "                                       listing_title  \\\n",
       "0                                  Nice wooden makes   \n",
       "1  A Shinning 2013 Chevrolet 1.4 Utility Bakkie w...   \n",
       "2                                 Lampshades various   \n",
       "3                                     Toyota Corolla   \n",
       "4                           bench grinder and buffer   \n",
       "\n",
       "                                 listing_description listing_price  \\\n",
       "0              We build all different types for sale      17500.00   \n",
       "1  A Stunning accident free bargain that has just...      94890.00   \n",
       "2                   A variety of lampshades in white         20.00   \n",
       "3  Toyota Corolla 1.3 Professional, Front Electri...      63995.00   \n",
       "4           bench grinder and.buffer...R800 for both        800.00   \n",
       "\n",
       "               category_sk   category_l1_name_en category_l2_name_en  \\\n",
       "0       olx|mea|za|806|809  Home, Garden & Tools      Garden & Braai   \n",
       "1  olx|mea|za|362|378|2012              Vehicles      Cars & Bakkies   \n",
       "2       olx|mea|za|806|807  Home, Garden & Tools   Furniture & Decor   \n",
       "3  olx|mea|za|362|378|2067              Vehicles      Cars & Bakkies   \n",
       "4       olx|mea|za|806|910  Home, Garden & Tools         Tools & DIY   \n",
       "\n",
       "  category_l3_name_en  listing_latitude  listing_longitude     cnt  catl3_ID  \\\n",
       "0             Unknown         -25.43067           27.84873     0.0         0   \n",
       "1           Chevrolet         -29.73714           31.07364   258.0        40   \n",
       "2             Unknown         -33.88159           18.55522     0.0         0   \n",
       "3              Toyota         -26.10757           28.05670  1882.0       190   \n",
       "4             Unknown         -26.17190           27.91318     0.0         0   \n",
       "\n",
       "   cnt2  catl2_ID cat_ID  category_l23_name  query_count  \n",
       "0   9.0        24    240     Garden & Braai          9.0  \n",
       "1  20.0        11   1140          Chevrolet        278.0  \n",
       "2   9.0        22    220  Furniture & Decor          9.0  \n",
       "3  20.0        11  11190             Toyota       1902.0  \n",
       "4  10.0        47    470        Tools & DIY         10.0  "
      ]
     },
     "execution_count": 212,
     "metadata": {},
     "output_type": "execute_result"
    }
   ],
   "source": [
    "df_main_catl2.head()"
   ]
  },
  {
   "cell_type": "code",
   "execution_count": 257,
   "metadata": {
    "collapsed": false
   },
   "outputs": [],
   "source": [
    "df_main_catl2.columns\n",
    "#df_main_catl2.info()\n",
    "\n",
    "df_final_svd = df_main_catl2[[ 'cat_ID', 'seller_id','query_count','category_l23_name' ]]"
   ]
  },
  {
   "cell_type": "code",
   "execution_count": 259,
   "metadata": {
    "collapsed": false
   },
   "outputs": [
    {
     "name": "stderr",
     "output_type": "stream",
     "text": [
      "C:\\Users\\sleelag\\AppData\\Local\\Continuum\\Anaconda3\\lib\\site-packages\\ipykernel\\__main__.py:3: SettingWithCopyWarning: \n",
      "A value is trying to be set on a copy of a slice from a DataFrame\n",
      "\n",
      "See the caveats in the documentation: http://pandas.pydata.org/pandas-docs/stable/indexing.html#indexing-view-versus-copy\n",
      "  app.launch_new_instance()\n"
     ]
    },
    {
     "name": "stdout",
     "output_type": "stream",
     "text": [
      "<class 'pandas.core.frame.DataFrame'>\n",
      "Int64Index: 492785 entries, 0 to 500015\n",
      "Data columns (total 4 columns):\n",
      "cat_ID               492785 non-null int32\n",
      "seller_id            492785 non-null int32\n",
      "query_count          492785 non-null float64\n",
      "category_l23_name    492785 non-null object\n",
      "dtypes: float64(1), int32(2), object(1)\n",
      "memory usage: 15.0+ MB\n"
     ]
    },
    {
     "name": "stderr",
     "output_type": "stream",
     "text": [
      "C:\\Users\\sleelag\\AppData\\Local\\Continuum\\Anaconda3\\lib\\site-packages\\ipykernel\\__main__.py:5: SettingWithCopyWarning: \n",
      "A value is trying to be set on a copy of a slice from a DataFrame.\n",
      "Try using .loc[row_indexer,col_indexer] = value instead\n",
      "\n",
      "See the caveats in the documentation: http://pandas.pydata.org/pandas-docs/stable/indexing.html#indexing-view-versus-copy\n",
      "C:\\Users\\sleelag\\AppData\\Local\\Continuum\\Anaconda3\\lib\\site-packages\\ipykernel\\__main__.py:6: SettingWithCopyWarning: \n",
      "A value is trying to be set on a copy of a slice from a DataFrame.\n",
      "Try using .loc[row_indexer,col_indexer] = value instead\n",
      "\n",
      "See the caveats in the documentation: http://pandas.pydata.org/pandas-docs/stable/indexing.html#indexing-view-versus-copy\n"
     ]
    }
   ],
   "source": [
    "#df_final_svd['cat_ID'] = df_final_svd['cat_ID'].astype(int)\n",
    "#df_final_svd['seller_id'] = df_final_svd['seller_id'].astype(int)\n",
    "df_final_svd.dropna(inplace= True)\n",
    "df_final_svd[df_final_svd['seller_id'].apply(lambda x: isinstance(x, ( float, np.float64)))]\n",
    "df_final_svd['seller_id'] = df_final_svd['seller_id'].astype(int)\n",
    "df_final_svd['cat_ID'] = df_final_svd['cat_ID'].astype(int)\n",
    "df_final_svd.info()"
   ]
  },
  {
   "cell_type": "code",
   "execution_count": 260,
   "metadata": {
    "collapsed": false
   },
   "outputs": [
    {
     "data": {
      "text/html": [
       "<div>\n",
       "<table border=\"1\" class=\"dataframe\">\n",
       "  <thead>\n",
       "    <tr style=\"text-align: right;\">\n",
       "      <th></th>\n",
       "      <th>cat_ID</th>\n",
       "      <th>seller_id</th>\n",
       "      <th>query_count</th>\n",
       "      <th>category_l23_name</th>\n",
       "    </tr>\n",
       "  </thead>\n",
       "  <tbody>\n",
       "    <tr>\n",
       "      <th>0</th>\n",
       "      <td>240</td>\n",
       "      <td>0</td>\n",
       "      <td>9.0</td>\n",
       "      <td>Garden &amp; Braai</td>\n",
       "    </tr>\n",
       "    <tr>\n",
       "      <th>1</th>\n",
       "      <td>1140</td>\n",
       "      <td>1</td>\n",
       "      <td>278.0</td>\n",
       "      <td>Chevrolet</td>\n",
       "    </tr>\n",
       "    <tr>\n",
       "      <th>2</th>\n",
       "      <td>220</td>\n",
       "      <td>2</td>\n",
       "      <td>9.0</td>\n",
       "      <td>Furniture &amp; Decor</td>\n",
       "    </tr>\n",
       "    <tr>\n",
       "      <th>3</th>\n",
       "      <td>11190</td>\n",
       "      <td>3</td>\n",
       "      <td>1902.0</td>\n",
       "      <td>Toyota</td>\n",
       "    </tr>\n",
       "    <tr>\n",
       "      <th>4</th>\n",
       "      <td>470</td>\n",
       "      <td>4</td>\n",
       "      <td>10.0</td>\n",
       "      <td>Tools &amp; DIY</td>\n",
       "    </tr>\n",
       "  </tbody>\n",
       "</table>\n",
       "</div>"
      ],
      "text/plain": [
       "   cat_ID  seller_id  query_count  category_l23_name\n",
       "0     240          0          9.0     Garden & Braai\n",
       "1    1140          1        278.0          Chevrolet\n",
       "2     220          2          9.0  Furniture & Decor\n",
       "3   11190          3       1902.0             Toyota\n",
       "4     470          4         10.0        Tools & DIY"
      ]
     },
     "execution_count": 260,
     "metadata": {},
     "output_type": "execute_result"
    }
   ],
   "source": [
    "df_final_svd.head()"
   ]
  },
  {
   "cell_type": "code",
   "execution_count": 261,
   "metadata": {
    "collapsed": true
   },
   "outputs": [],
   "source": [
    "from sklearn.model_selection import train_test_split\n",
    "train_data, test_data = train_test_split(df_final_svd, test_size=0.25)"
   ]
  },
  {
   "cell_type": "code",
   "execution_count": 282,
   "metadata": {
    "collapsed": false
   },
   "outputs": [
    {
     "name": "stdout",
     "output_type": "stream",
     "text": [
      "Num. of Sellers: 15500\n",
      "Num of Items: 118000\n"
     ]
    }
   ],
   "source": [
    "n_sellers = df_final_svd['seller_id'].nunique()\n",
    "n_items = df_final_svd['category_l23_name'].nunique()\n",
    "\n",
    "n_sellers = 15500\n",
    "n_items = 118000\n",
    "print('Num. of Sellers: '+ str(n_sellers))\n",
    "print('Num of Items: '+ str(n_items))"
   ]
  },
  {
   "cell_type": "code",
   "execution_count": null,
   "metadata": {
    "collapsed": true
   },
   "outputs": [],
   "source": [
    "#Create two user-item matrices, one for training and another for testing\n",
    "train_data_matrix = np.zeros((n_sellers, n_items))\n",
    "for line in train_data.itertuples():\n",
    "    train_data_matrix[line[1]-1, line[2]-1] = line[3]  \n",
    "\n",
    "test_data_matrix = np.zeros((n_sellers, n_items))\n",
    "for line in test_data.itertuples():\n",
    "    test_data_matrix[line[1]-1, line[2]-1] = line[3]"
   ]
  },
  {
   "cell_type": "code",
   "execution_count": null,
   "metadata": {
    "collapsed": false
   },
   "outputs": [],
   "source": [
    "import scipy.sparse as sp\n",
    "from scipy.sparse.linalg import svds\n",
    "\n",
    "#get SVD components from train matrix. Choose k.\n",
    "u, s, vt = svds(train_data_matrix, k = 20)\n",
    "s_diag_matrix=np.diag(s)\n",
    "X_pred = np.dot(np.dot(u, s_diag_matrix), vt)\n",
    "print('User-based CF MSE: ' + str(rmse(X_pred, test_data_matrix)))"
   ]
  },
  {
   "cell_type": "markdown",
   "metadata": {},
   "source": [
    "#### STOPPING HERE DUE TO TIME CONSTRAINT!\n",
    "\n"
   ]
  },
  {
   "cell_type": "markdown",
   "metadata": {},
   "source": [
    "#### Evaluate :\n",
    "\n",
    "** RMSE : To evaluate accuracy of predicted rating. **\n",
    "\n",
    "#### Different from Naive approach :\n",
    "\n",
    "\n",
    "** 1) Here we are recommending based on the correaltion of each values in the product matrix ** \n",
    "\n",
    "** 2) Also considering the SVD implementation -  Memory-based CF - Matrix factorization (MF). ** \n",
    "\n",
    "\n",
    "#### Improvements\n",
    "There are many improvements possible with above model:\n",
    "\n",
    " \n",
    "** 1) More preprocessing of the data ** \n",
    "\n",
    "** 2) Normalising the Queries count field** \n",
    "\n",
    "** 3) Use main categories(mentioned in website)for creating clusters of main category and then proceed with recommendation** \n",
    "\n",
    "** 4) Build a hybrid model - Collaborative Filtering and Content-based Models  combined** \n",
    "\n",
    "\n",
    "\n"
   ]
  },
  {
   "cell_type": "code",
   "execution_count": null,
   "metadata": {
    "collapsed": true
   },
   "outputs": [],
   "source": []
  },
  {
   "cell_type": "code",
   "execution_count": null,
   "metadata": {
    "collapsed": true
   },
   "outputs": [],
   "source": []
  }
 ],
 "metadata": {
  "anaconda-cloud": {},
  "kernelspec": {
   "display_name": "Python [default]",
   "language": "python",
   "name": "python3"
  },
  "language_info": {
   "codemirror_mode": {
    "name": "ipython",
    "version": 3
   },
   "file_extension": ".py",
   "mimetype": "text/x-python",
   "name": "python",
   "nbconvert_exporter": "python",
   "pygments_lexer": "ipython3",
   "version": "3.5.2"
  }
 },
 "nbformat": 4,
 "nbformat_minor": 1
}
